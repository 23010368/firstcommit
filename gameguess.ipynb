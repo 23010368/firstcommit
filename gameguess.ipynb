{
 "cells": [
  {
   "cell_type": "code",
   "execution_count": 1,
   "id": "d075d258",
   "metadata": {},
   "outputs": [],
   "source": [
    "def say_hello():\n",
    "    Print(\"hello\")"
   ]
  },
  {
   "cell_type": "code",
   "execution_count": 2,
   "id": "382901de",
   "metadata": {},
   "outputs": [
    {
     "ename": "NameError",
     "evalue": "name 'Print' is not defined",
     "output_type": "error",
     "traceback": [
      "\u001b[0;31m---------------------------------------------------------------------------\u001b[0m",
      "\u001b[0;31mNameError\u001b[0m                                 Traceback (most recent call last)",
      "Cell \u001b[0;32mIn [2], line 1\u001b[0m\n\u001b[0;32m----> 1\u001b[0m \u001b[43msay_hello\u001b[49m\u001b[43m(\u001b[49m\u001b[43m)\u001b[49m\n",
      "Cell \u001b[0;32mIn [1], line 2\u001b[0m, in \u001b[0;36msay_hello\u001b[0;34m()\u001b[0m\n\u001b[1;32m      1\u001b[0m \u001b[38;5;28;01mdef\u001b[39;00m \u001b[38;5;21msay_hello\u001b[39m():\n\u001b[0;32m----> 2\u001b[0m     \u001b[43mPrint\u001b[49m(\u001b[38;5;124m\"\u001b[39m\u001b[38;5;124mhello\u001b[39m\u001b[38;5;124m\"\u001b[39m)\n",
      "\u001b[0;31mNameError\u001b[0m: name 'Print' is not defined"
     ]
    }
   ],
   "source": [
    "say_hello()"
   ]
  },
  {
   "cell_type": "code",
   "execution_count": 3,
   "id": "dcc44e44",
   "metadata": {},
   "outputs": [
    {
     "ename": "IndentationError",
     "evalue": "expected an indented block (2131019843.py, line 2)",
     "output_type": "error",
     "traceback": [
      "\u001b[0;36m  Cell \u001b[0;32mIn [3], line 2\u001b[0;36m\u001b[0m\n\u001b[0;31m    print(\"heloo world\")\u001b[0m\n\u001b[0m    ^\u001b[0m\n\u001b[0;31mIndentationError\u001b[0m\u001b[0;31m:\u001b[0m expected an indented block\n"
     ]
    }
   ],
   "source": [
    "def sayhello():\n",
    "print(\"heloo world\")"
   ]
  },
  {
   "cell_type": "code",
   "execution_count": 8,
   "id": "b8fd443f",
   "metadata": {},
   "outputs": [],
   "source": [
    "def say_hello(myname):\n",
    "    print(\"hello\", myname)\n"
   ]
  },
  {
   "cell_type": "code",
   "execution_count": 12,
   "id": "cf1102be",
   "metadata": {},
   "outputs": [
    {
     "ename": "IndentationError",
     "evalue": "expected an indented block (4075019153.py, line 3)",
     "output_type": "error",
     "traceback": [
      "\u001b[0;36m  Cell \u001b[0;32mIn [12], line 3\u001b[0;36m\u001b[0m\n\u001b[0;31m    return \"la so chan\"\u001b[0m\n\u001b[0m    ^\u001b[0m\n\u001b[0;31mIndentationError\u001b[0m\u001b[0;31m:\u001b[0m expected an indented block\n"
     ]
    }
   ],
   "source": [
    "def check_number(number):\n",
    "    if number % 2 == 0:\n",
    "    return ()\"la so chan\"\n",
    "else:\n",
    "    return \"la so le\"\n"
   ]
  },
  {
   "cell_type": "code",
   "execution_count": 19,
   "id": "648df8e0",
   "metadata": {},
   "outputs": [],
   "source": [
    "def multiply(num1, num2):\n",
    "    return num1 * num2\n"
   ]
  },
  {
   "cell_type": "code",
   "execution_count": 20,
   "id": "07cd143d",
   "metadata": {},
   "outputs": [],
   "source": [
    "kq = multiply(2, 6)"
   ]
  },
  {
   "cell_type": "code",
   "execution_count": 21,
   "id": "91c8dfda",
   "metadata": {},
   "outputs": [
    {
     "data": {
      "text/plain": [
       "12"
      ]
     },
     "execution_count": 21,
     "metadata": {},
     "output_type": "execute_result"
    }
   ],
   "source": [
    "kq"
   ]
  },
  {
   "cell_type": "code",
   "execution_count": 24,
   "id": "7e3c5d2c",
   "metadata": {},
   "outputs": [
    {
     "name": "stdout",
     "output_type": "stream",
     "text": [
      "hung\n",
      "Hi hung how are you?\n"
     ]
    }
   ],
   "source": [
    "def hello_there():\n",
    "    print (\"Type your name:\")\n",
    "\n",
    "name = input()\n",
    "print(\"Hi\", name, \"how are you?\")"
   ]
  },
  {
   "cell_type": "code",
   "execution_count": null,
   "id": "195cf5f3",
   "metadata": {},
   "outputs": [],
   "source": []
  }
 ],
 "metadata": {
  "kernelspec": {
   "display_name": "Python 3 (ipykernel)",
   "language": "python",
   "name": "python3"
  },
  "language_info": {
   "codemirror_mode": {
    "name": "ipython",
    "version": 3
   },
   "file_extension": ".py",
   "mimetype": "text/x-python",
   "name": "python",
   "nbconvert_exporter": "python",
   "pygments_lexer": "ipython3",
   "version": "3.9.7"
  }
 },
 "nbformat": 4,
 "nbformat_minor": 5
}
